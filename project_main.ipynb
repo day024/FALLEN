{
 "cells": [
  {
   "cell_type": "code",
   "execution_count": 3,
   "id": "160b7951",
   "metadata": {},
   "outputs": [
    {
     "name": "stdout",
     "output_type": "stream",
     "text": [
      "OSSW Project code\n"
     ]
    }
   ],
   "source": [
    "# test\n",
    "print(\"OSSW Project code\")"
   ]
  },
  {
   "cell_type": "code",
   "execution_count": null,
   "id": "992f1802",
   "metadata": {},
   "outputs": [],
   "source": []
  }
 ],
 "metadata": {
  "kernelspec": {
   "display_name": "Python 3 (ipykernel)",
   "language": "python",
   "name": "python3"
  },
  "language_info": {
   "codemirror_mode": {
    "name": "ipython",
    "version": 3
   },
   "file_extension": ".py",
   "mimetype": "text/x-python",
   "name": "python",
   "nbconvert_exporter": "python",
   "pygments_lexer": "ipython3",
   "version": "3.9.12"
  }
 },
 "nbformat": 4,
 "nbformat_minor": 5
}
